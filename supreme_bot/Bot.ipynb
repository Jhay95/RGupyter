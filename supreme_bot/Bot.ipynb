{
 "cells": [
  {
   "cell_type": "markdown",
   "metadata": {},
   "source": [
    "# How to make a Supreme Bot"
   ]
  },
  {
   "cell_type": "markdown",
   "metadata": {},
   "source": [
    "2 main things to understand\n",
    "* session-user-cart-item relationships\n",
    "* How to use HTTP post requests and bypass the HTTPOnly system using headers"
   ]
  },
  {
   "cell_type": "markdown",
   "metadata": {},
   "source": [
    "---\n",
    "# session-user-cart-item relationships\n",
    "___"
   ]
  },
  {
   "cell_type": "markdown",
   "metadata": {},
   "source": [
    "## Session\n",
    "First thing to do is create a new session"
   ]
  },
  {
   "cell_type": "code",
   "execution_count": 2,
   "metadata": {},
   "outputs": [],
   "source": [
    "import requests\n",
    "session = requests.Session()"
   ]
  },
  {
   "cell_type": "markdown",
   "metadata": {},
   "source": [
    "An important thing to inspect and change is the session headers  \n",
    "I have not found any reason to believe they are able to check this, but its best you change the `User-Agent` field"
   ]
  },
  {
   "cell_type": "code",
   "execution_count": 3,
   "metadata": {},
   "outputs": [
    {
     "data": {
      "text/plain": [
       "{'User-Agent': 'python-requests/2.14.2', 'Accept-Encoding': 'gzip, deflate', 'Accept': '*/*', 'Connection': 'keep-alive'}"
      ]
     },
     "execution_count": 3,
     "metadata": {},
     "output_type": "execute_result"
    }
   ],
   "source": [
    "session.headers"
   ]
  },
  {
   "cell_type": "code",
   "execution_count": 4,
   "metadata": {},
   "outputs": [],
   "source": [
    "session.headers['User-Agent'] = 'Mozilla/5.0 (Macintosh; Intel Mac OS X 10.13; rv:64.0) Gecko/20100101 Firefox/64.0'"
   ]
  },
  {
   "cell_type": "code",
   "execution_count": 5,
   "metadata": {},
   "outputs": [
    {
     "data": {
      "text/plain": [
       "{'User-Agent': 'Mozilla/5.0 (Macintosh; Intel Mac OS X 10_13_4) AppleWebKit/537.36 (KHTML, like Gecko) Chrome/72.0.3626.109 Safari/537.36', 'Accept-Encoding': 'gzip, deflate', 'Accept': '*/*', 'Connection': 'keep-alive'}"
      ]
     },
     "execution_count": 5,
     "metadata": {},
     "output_type": "execute_result"
    }
   ],
   "source": [
    "session.headers"
   ]
  },
  {
   "cell_type": "markdown",
   "metadata": {},
   "source": [
    "## User\n",
    "Each user will have their own session  \n",
    "Each user will have their own cart  \n",
    "It is import to tie all of these together by consistently using the same session for all GET and POST requests  "
   ]
  },
  {
   "cell_type": "markdown",
   "metadata": {},
   "source": [
    "## Adding items to cart"
   ]
  },
  {
   "cell_type": "markdown",
   "metadata": {},
   "source": [
    "You will need to use the the `add` endpoint example like this https://www.supremenewyork.com/shop/{item_code}/add  \n",
    "With form data and proper headers  \n",
    "Its all about replicating what your browser is doing as much as possible\n",
    "  \n",
    "\n",
    "How to find the {item_code}?  \n",
    "Have a look around on an item page by finding where the {item_code} from the url exists on the webpage "
   ]
  },
  {
   "cell_type": "markdown",
   "metadata": {},
   "source": [
    "## How to use the Network tab to solve this problem\n",
    "The process will be this throughout the project.  \n",
    "\n",
    "1. You need to inspect the headers and form data to see what is being passed.  \n",
    "<img src=\"form_data.png\">\n",
    "2. You need to find where that data exists on the web page  \n",
    "(See how I took the st value from the form data and search where it was in the webpage)\n",
    "<img src=\"found_element.png\">\n",
    "3. Create functions to scrape that data from the webpage\n",
    "4. Replicate those request header and form data packets with your POST request\n",
    "<img src=\"header_example.png\">\n",
    "<img src=\"form_data_close.png\">\n",
    "5. Read response headers to see how you performed and continue logically off that  \n",
    "(Specifically the 'set-cookie' from add to cart and 'queued' from checkout)\n",
    "<img src=\"set_cookie_close.png\">"
   ]
  },
  {
   "cell_type": "markdown",
   "metadata": {},
   "source": [
    "---\n",
    "# How to beat HTTPOnly\n",
    "---\n",
    "From a high level there are several things you need to nail down that interweave with  \n",
    "  \n",
    "* Request Headers\n",
    "    * X-CSRF code\n",
    "    * cookie\n",
    "        * cart\n",
    "        * pure_cart\n",
    "        * \\_supreme_sess\n",
    "* Response Headers\n",
    "    * Taking the cookie returned and placing it into the next post request\n",
    "* Checkout form data\n",
    "    * Solving a captcha and placing that into the form data for each checkout"
   ]
  },
  {
   "cell_type": "markdown",
   "metadata": {},
   "source": [
    "## X-CSRF Code\n",
    "I think this is why you need to use the same session across all of the GET and POST requests  \n",
    "so you get the proper X-CSRF code into the header.  \n",
    "  \n",
    "Just scrape this from the item page you want to add to cart and your checkout page \n",
    "  \n",
    "<img src=\"csrf.png\">"
   ]
  },
  {
   "cell_type": "markdown",
   "metadata": {},
   "source": [
    "## Cookie parts\n",
    "There a a couple of parts of the cookie that need to be separately created then assembled\n",
    "* \\_supreme_sess\n",
    "* cart\n",
    "* pure_cart\n",
    "* request_method\n",
    "\n",
    "cart and pure_cart are encoded. Use https://www.urldecoder.org/ to start figuring out what's going on and reverse engineer it.  \n",
    "\n",
    "request_method seems to be the HTTP request you made. I just hardcode it Post because why would your bot be deleting anything.  \n",
    "\n",
    "pure_cart is finicky I would suggest including it but it doesnt always return in the response headers and isn't needed in the request headers. I would 100% put it in the POST checkout.  \n",
    "\n",
    "Throw all of these in one cookie named`['set-cookie']` separated by commas\n"
   ]
  },
  {
   "cell_type": "markdown",
   "metadata": {},
   "source": [
    "## \\_supreme_sess pass off\n",
    "Through my testing on incognito mode I discovered you don't need to send any pookies ever and don't need to send any cookies on the first add to cart\n",
    "\n",
    "Here is a write up of the process.  \n",
    "\n",
    "1 Add to Cart No cookie  \n",
    "1 add to cart 200 and cookie = response.headers['cookie']  \n",
    "2 Add to Cart 1 cookie  \n",
    "2 200 and cookie = response.headers['cookie']  \n",
    "3 Add to Cart 2 cookie  \n",
    "3 200 and cookie = response.headers['cookie']  \n",
    ".  \n",
    ".  \n",
    ".  \n",
    "Nth Add to Cart N-1 cookie  \n",
    "Nth 200 and cookie = response.headers['cookie']  \n",
    "  \n",
    "I also show how this process works through images\n",
    "\n",
    "<img src=\"request_incognito.png\">\n",
    "  \n",
    "But you do need to take the response header (didn't get the whole header)\n",
    "  \n",
    "<img src=\"response_incognito.png\">\n",
    "  \n",
    "And Take the set-cookie and put back in the next request header\n",
    "  \n",
    "<img src=\"remove_cart_request_incognito.png\">\n",
    "  \n",
    "That's what the website does so make your application do the same thing too. It took me $450 to figure this out so be thankful. This is only 1 element of the cookie"
   ]
  },
  {
   "cell_type": "markdown",
   "metadata": {},
   "source": [
    "## Solving Captchas\n",
    "I use http://www.deathbycaptcha.com/user/login, but you can really use any captcha solver. I almost forgot to write about this because of how simple this is.  \n",
    "\n",
    "For every checkout you need a g-captcha-repsonse code that is less then 120 seconds old. Just put it into your checkout form data. There is plenty of info to learn from googling how the captcha system works"
   ]
  },
  {
   "cell_type": "markdown",
   "metadata": {},
   "source": [
    "## Threading\n",
    "Threading is a huge issue I am unqualified to talk about but just think all this shit has to work at the same time like an orchestra. Good thing Rudy and I were in band together."
   ]
  },
  {
   "cell_type": "markdown",
   "metadata": {},
   "source": [
    "## Tips\n",
    "\n",
    "Overall process\n",
    "Get item page-->Scrape item page for values--> Post Add item to cart--> Scrape Post response--> Post Checkout\n",
    "\n",
    "Lots of webscraping\n",
    "\n",
    "Time is always important. Either time of the day or how long something has been going or existed\n",
    "\n",
    "Program this like the supreme site is doing to crash"
   ]
  }
 ],
 "metadata": {
  "kernelspec": {
   "display_name": "Python 3",
   "language": "python",
   "name": "python3"
  },
  "language_info": {
   "codemirror_mode": {
    "name": "ipython",
    "version": 3
   },
   "file_extension": ".py",
   "mimetype": "text/x-python",
   "name": "python",
   "nbconvert_exporter": "python",
   "pygments_lexer": "ipython3",
   "version": "3.6.6"
  }
 },
 "nbformat": 4,
 "nbformat_minor": 2
}
