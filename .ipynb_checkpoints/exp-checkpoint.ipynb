{
 "cells": [
  {
   "cell_type": "markdown",
   "metadata": {},
   "source": [
    "# A small experiment with this line of IPython functionality\n",
    "```python\n",
    "obj?, obj??      : Get help, or more help for object (also works as\n",
    "                   ?obj, ??obj).```"
   ]
  },
  {
   "cell_type": "markdown",
   "metadata": {},
   "source": [
    "I am creating this class to test the obj? command\n",
    "    \n",
    "What information will it display?\n",
    "* docstring\n",
    "* attribute names\n",
    "* functions\n",
    "* create a custom return funciton"
   ]
  },
  {
   "cell_type": "code",
   "execution_count": 18,
   "metadata": {},
   "outputs": [],
   "source": [
    "class tank:\n",
    "    \"\"\"Creating a cool tank for test\n",
    "    \n",
    "    I like having a tiny little docstring with a lot of space\n",
    "    \n",
    "    Maybe some new line spacing. Especially for the last line.\n",
    "    But, Also sometimes I like there to be no new line. \n",
    "    My general rule is to include no new line if the last line is indented.\n",
    "    \n",
    "    This occurs regularly using my docstring style of\n",
    "    \n",
    "    Output:\n",
    "        list of items\n",
    "    But seeing it printed out by the ?obj function I think I will\n",
    "    like it better with a new line\n",
    "    It did make a change, but these lines will stay just like the new line\n",
    "    \n",
    "    \"\"\"\n",
    "    #concludes my docstring rant\n",
    "    \n",
    "    def __init__(self, color, people_inside, gun):\n",
    "        self.color = color\n",
    "        self.people_inside = people_inside\n",
    "        self.gun = gun\n",
    "    \n",
    "    def __str__():\n",
    "        return 'we hit the __str__()function'\n",
    "        "
   ]
  },
  {
   "cell_type": "markdown",
   "metadata": {},
   "source": [
    "## Will this work when the class exists, but there is no reference to an instance of it?\n",
    "\n",
    "### First of all I don't even know if it is\n",
    "```python\n",
    "obj? tank\n",
    "tank obj?\n",
    "tank() obj?\n",
    "tank() obj??\n",
    "?obj\n",
    "??obj\n",
    "```"
   ]
  },
  {
   "cell_type": "code",
   "execution_count": 19,
   "metadata": {},
   "outputs": [
    {
     "data": {
      "text/plain": [
       "\u001b[0;31mInit signature:\u001b[0m \u001b[0mtank\u001b[0m\u001b[0;34m(\u001b[0m\u001b[0mcolor\u001b[0m\u001b[0;34m,\u001b[0m \u001b[0mpeople_inside\u001b[0m\u001b[0;34m,\u001b[0m \u001b[0mgun\u001b[0m\u001b[0;34m)\u001b[0m\u001b[0;34m\u001b[0m\u001b[0m\n",
       "\u001b[0;31mDocstring:\u001b[0m     \n",
       "Creating a cool tank for test\n",
       "\n",
       "I like having a tiny little docstring with a lot of space\n",
       "\n",
       "Maybe some new line spacing. Especially for the last line.\n",
       "But, Also sometimes I like there to be no new line. \n",
       "My general rule is to include no new line if the last line is indented.\n",
       "\n",
       "This occurs regularly using my docstring style of\n",
       "\n",
       "Output:\n",
       "    list of items\n",
       "But seeing it printed out by the ?obj function I think I will\n",
       "like it better with a new line\n",
       "It did make a change, but these lines will stay just like the new line\n",
       "\u001b[0;31mType:\u001b[0m           type\n"
      ]
     },
     "metadata": {},
     "output_type": "display_data"
    }
   ],
   "source": [
    "?tank"
   ]
  },
  {
   "cell_type": "markdown",
   "metadata": {},
   "source": [
    "This could be really useful when exploring \n",
    "a program for the first time in an IPython environment\n",
    "\n",
    "Super responsive to user inquiry"
   ]
  },
  {
   "cell_type": "code",
   "execution_count": null,
   "metadata": {},
   "outputs": [],
   "source": []
  }
 ],
 "metadata": {
  "kernelspec": {
   "display_name": "Python 3",
   "language": "python",
   "name": "python3"
  },
  "language_info": {
   "codemirror_mode": {
    "name": "ipython",
    "version": 3
   },
   "file_extension": ".py",
   "mimetype": "text/x-python",
   "name": "python",
   "nbconvert_exporter": "python",
   "pygments_lexer": "ipython3",
   "version": "3.6.6"
  }
 },
 "nbformat": 4,
 "nbformat_minor": 2
}
