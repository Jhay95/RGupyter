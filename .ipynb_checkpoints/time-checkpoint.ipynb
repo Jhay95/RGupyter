{
 "cells": [
  {
   "cell_type": "markdown",
   "metadata": {},
   "source": [
    "# Python time packages\n",
    "\n",
    "My relationship with time packages are strange because I love `time`, but constantly\n",
    "get annoyed with `datetime`  \n",
    "\n",
    "Understanding when and why you should use each packaged is important, but it is also important to use both together at times\n",
    "\n",
    "Quickly read about both:  \n",
    "[time](https://docs.python.org/3.7/library/time.html)  \n",
    "[datetime](https://docs.python.org/3/library/datetime.html)\n",
    "\n",
    "## First import dependencies\n",
    "#### these "
   ]
  },
  {
   "cell_type": "code",
   "execution_count": 18,
   "metadata": {},
   "outputs": [],
   "source": [
    "import datetime\n",
    "import time"
   ]
  },
  {
   "cell_type": "markdown",
   "metadata": {},
   "source": [
    "## Let's play with the basics of time\n",
    "Off the top of my head the 2 functions I use the most are"
   ]
  },
  {
   "cell_type": "markdown",
   "metadata": {},
   "source": [
    "# `time.sleep()`\n",
    "###### run it"
   ]
  },
  {
   "cell_type": "code",
   "execution_count": null,
   "metadata": {},
   "outputs": [],
   "source": [
    "time.sleep(10)\n",
    "print('that took a while right?')"
   ]
  },
  {
   "cell_type": "markdown",
   "metadata": {},
   "source": [
    "### `time.sleep(secs)`\n",
    "\n",
    "(this was taken from the [time documentation](https://docs.python.org/3.7/library/time.html#module-time) with some extra bold styling by me. **bold = important take aways**)\n",
    "\n",
    "**Suspend execution of the calling thread for the given number of seconds**. The argument **may be a floating point number** to indicate a more precise sleep time. The actual suspension time may be less than that requested because any caught signal will terminate the sleep() following execution of that signal’s catching routine. Also, the suspension time may be longer than requested by an arbitrary amount because of the scheduling of other activity in the system.\n",
    "\n",
    "### More uses:"
   ]
  },
  {
   "cell_type": "markdown",
   "metadata": {},
   "source": [
    "I use `time.sleep()` when I want to give the action some time to breathe  \n",
    "\n",
    "I often scrape a website until some condition is met and `time.sleep()` to make sure that I am not accidentally ddosing the server. `time.sleep()` is a responsible function to drop in a loop to make sure you don't go too crazy\n",
    "\n",
    "`time.sleep()` could be used to sleep for 30 minutes or 8 hours and can help you control frequency a function is completed or repeated at"
   ]
  },
  {
   "cell_type": "code",
   "execution_count": null,
   "metadata": {},
   "outputs": [],
   "source": [
    "x = 0\n",
    "\n",
    "while x < 5:\n",
    "    print(f'Current x value: {x}')\n",
    "    x += 1\n",
    "    time.sleep(2)\n",
    "        \n",
    "print('\\nout of the while loop')"
   ]
  },
  {
   "cell_type": "markdown",
   "metadata": {},
   "source": [
    "# `time.time()`\n",
    "###### run it"
   ]
  },
  {
   "cell_type": "code",
   "execution_count": null,
   "metadata": {},
   "outputs": [],
   "source": [
    "time.time()"
   ]
  },
  {
   "cell_type": "markdown",
   "metadata": {},
   "source": [
    "### `time.time() → float`\n",
    "\n",
    "(this was taken from the [time documentation](https://docs.python.org/3.7/library/time.html#module-time) with some extra bold styling by me. **bold = important take aways**)\n",
    "\n",
    "Return the time in **seconds** since the **epoch** as a floating point number. The specific date of the epoch and the handling of leap seconds is platform dependent. On Windows and most Unix systems, the epoch is January 1, 1970, 00:00:00 (UTC) and leap seconds are not counted towards the time in seconds since the epoch. This is commonly referred to as Unix time. To find out what the epoch is on a given platform, look at gmtime(0).\n",
    "\n",
    "Note that even though the time is always returned as a floating point number, not all systems provide time with a better precision than 1 second. While this function normally returns non-decreasing values, it can return a lower value than a previous call if the system clock has been set back between the two calls.\n",
    "\n",
    "**Ways to improve formatting**  \n",
    "The number returned by time() may be converted into a more common time format (i.e. year, month, day, hour, etc…) in UTC by passing it to gmtime() function or in local time by passing it to the localtime() function. In both cases a struct_time object is returned, from which the components of the calendar date may be accessed as attributes."
   ]
  },
  {
   "cell_type": "markdown",
   "metadata": {},
   "source": [
    "## SO WHAT?\n",
    "The biggest takeaways are:  \n",
    "`time.time()` has **no** initial relationship to date (an advantage of `datetime`)  \n",
    "`time.time()` returns the time in **seconds** since the **epoch** as a floating point number"
   ]
  },
  {
   "cell_type": "markdown",
   "metadata": {},
   "source": [
    "## My DO'S of `time.time()`\n",
    "I often turn to `time.time()` for simple time basic conditional logic when data related to the date (year, month and such) is not needed.\n",
    "\n"
   ]
  },
  {
   "cell_type": "code",
   "execution_count": null,
   "metadata": {},
   "outputs": [],
   "source": [
    "start = time.time()\n",
    "time.sleep(5)\n",
    "end = time.time()\n",
    "print(f'That took {end - start} seconds')"
   ]
  },
  {
   "cell_type": "markdown",
   "metadata": {},
   "source": [
    "I usually end up keeping the math pretty low (under 1 minute)  \n",
    "It's hard to convert 3600 seconds into minutes instantly   \n",
    "If you do use this for times that would be   \n",
    "hours or minutes apart, I would suggest commenting what the seconds  \n",
    "are equal to and what is the reason behind the comparison"
   ]
  },
  {
   "cell_type": "code",
   "execution_count": null,
   "metadata": {},
   "outputs": [],
   "source": [
    "# There are many ways you could do this\n",
    "# 60 minutes or 1 hour = 3600 seconds\n",
    "\n",
    "# Making sure that the main() has been running for an hour\n",
    "# this makes sure that the data is ready\n",
    "if time_difference > 3600:\n",
    "    print(f'transaction complete done in {time_difference}')\n",
    "    return"
   ]
  },
  {
   "cell_type": "markdown",
   "metadata": {},
   "source": [
    "I find my self doing loops like this where   \n",
    "I initialize a **starting time** then use that starting time to make comparisons   \n",
    "against the **current time** and record how long an action took to complete"
   ]
  },
  {
   "cell_type": "markdown",
   "metadata": {},
   "source": [
    "## My DON'TS of `time.time()`\n",
    "I avoid `time.time()` when I am storing date in a database as an attribute.\n",
    "  \n",
    "`datetime.datetime()` has much better built in getter functions that do a lot of work to access different formats of date, time, what day of the week it is, and what month it is.\n",
    "\n",
    "A informational quote I found at the top of the [`datetime.datetime()` documentation](https://docs.python.org/3/library/datetime.html) :  \n",
    "\n",
    "\"While date and time arithmetic is supported, the focus of the implementation is on efficient attribute extraction for output formatting and manipulation.\"\n",
    "\n",
    "### `time based arithmetic = time`\n",
    "### `time based attribute extraction = datetime`"
   ]
  },
  {
   "cell_type": "markdown",
   "metadata": {},
   "source": [
    "# `datetime.datetime()`\n",
    "Let's start with `datetime` examples and then go into more detail"
   ]
  },
  {
   "cell_type": "markdown",
   "metadata": {},
   "source": [
    "## How to get current time?"
   ]
  },
  {
   "cell_type": "code",
   "execution_count": null,
   "metadata": {},
   "outputs": [],
   "source": [
    "datetime.datetime.today()"
   ]
  },
  {
   "cell_type": "code",
   "execution_count": null,
   "metadata": {},
   "outputs": [],
   "source": [
    "datetime.datetime.now()"
   ]
  },
  {
   "cell_type": "markdown",
   "metadata": {},
   "source": [
    "*`class`* `datetime.datetime`  \n",
    "A combination of a date and a time.   \n",
    "Attributes: year, month, day, hour, minute, second, microsecond, and tzinfo."
   ]
  },
  {
   "cell_type": "markdown",
   "metadata": {},
   "source": [
    "## How will `datetime` objects print?\n",
    "\n",
    "for classes the function `__str__()` decides how the object will interacted when called for a print statement\n",
    "\n",
    "`datetime.datetime.__str__()`  \n",
    "For a datetime instance d, str(d) is equivalent to d.isoformat(' ')\n",
    "\n",
    "`datetime.isoformat(sep='T', timespec='auto')`  \n",
    "Return a string representing the date and time in ISO 8601 format, YYYY-MM-DDTHH:MM:SS.ffffff or, if microsecond is 0, YYYY-MM-DDTHH:MM:SS"
   ]
  },
  {
   "cell_type": "code",
   "execution_count": null,
   "metadata": {},
   "outputs": [],
   "source": [
    "print(datetime.datetime.now())"
   ]
  },
  {
   "cell_type": "markdown",
   "metadata": {},
   "source": [
    "Basicly, if you print `datetime.datetime()` the `datetime` package will format a more human readable version of the date and time"
   ]
  },
  {
   "cell_type": "markdown",
   "metadata": {},
   "source": [
    "## `datetime.datetime()` constructor"
   ]
  },
  {
   "cell_type": "code",
   "execution_count": null,
   "metadata": {},
   "outputs": [],
   "source": [
    "christmas_day = datetime.datetime(2019,12,25)\n",
    "# .date() will access just the date of the datetime.datetime object\n",
    "print(f'christmas day is {christmas_day.date()}')\n",
    "\n",
    "christmas_dinner = datetime.datetime(2019,12,25,15,30)\n",
    "print(f'christmas dinner is at {christmas_dinner}')"
   ]
  },
  {
   "cell_type": "markdown",
   "metadata": {},
   "source": [
    "## `datetime` feature extraction\n"
   ]
  },
  {
   "cell_type": "code",
   "execution_count": null,
   "metadata": {},
   "outputs": [],
   "source": [
    "#for only the date\n",
    "print(datetime.datetime.today().date())\n",
    "\n",
    "#for the time only\n",
    "print(datetime.datetime.today().time())\n",
    "\n",
    "# for the day of the week\n",
    "# 0 is monday 6 is sunday\n",
    "print(datetime.datetime.today().weekday())"
   ]
  },
  {
   "cell_type": "code",
   "execution_count": null,
   "metadata": {},
   "outputs": [],
   "source": [
    "datetime.datetime.today().time()"
   ]
  },
  {
   "cell_type": "code",
   "execution_count": null,
   "metadata": {},
   "outputs": [],
   "source": [
    "print(datetime.datetime.today().time())"
   ]
  },
  {
   "cell_type": "markdown",
   "metadata": {},
   "source": [
    "You can access any of the `<class 'datetime.datetime'>` attributes (read-only):\n",
    "```python\n",
    "datetime.year\n",
    "Between MINYEAR and MAXYEAR inclusive.\n",
    "\n",
    "datetime.month\n",
    "Between 1 and 12 inclusive.\n",
    "\n",
    "datetime.day\n",
    "Between 1 and the number of days in the given month of the given year.\n",
    "\n",
    "datetime.hour\n",
    "In range(24).\n",
    "\n",
    "datetime.minute\n",
    "In range(60).\n",
    "\n",
    "datetime.second\n",
    "In range(60).\n",
    "\n",
    "datetime.microsecond\n",
    "In range(1000000).\n",
    "\n",
    "datetime.tzinfo\n",
    "The object passed as the tzinfo argument to the datetime constructor, or None if none was passed.\n",
    "```"
   ]
  },
  {
   "cell_type": "markdown",
   "metadata": {},
   "source": [
    "## `datetime.timedelta()`\n",
    "\n",
    "(this was taken from the [datetime documentation](https://docs.python.org/3/library/datetime.html#module-datetime) with some extra bold styling by me. **bold = important take aways**)\n",
    "\n",
    "A timedelta object represents a **duration, the difference between two dates or times.**\n",
    "\n",
    "class datetime.timedelta(days=0, seconds=0, microseconds=0, milliseconds=0, minutes=0, hours=0, weeks=0)  \n",
    "All arguments are optional and default to 0. Arguments may be integers or floats, and **may be positive or negative.**  \n",
    "\n",
    "Only days, seconds and microseconds are stored internally. Arguments are converted to those units:\n",
    "\n",
    "A millisecond is converted to 1000 microseconds.  \n",
    "A minute is converted to 60 seconds.  \n",
    "An hour is converted to 3600 seconds.  \n",
    "A week is converted to 7 days.  \n",
    "and days, seconds and microseconds are then normalized so that the representation is unique, with"
   ]
  },
  {
   "cell_type": "markdown",
   "metadata": {},
   "source": [
    "### When do you see `timedelta`\n",
    "I run into the `timedelta` type when doing time based arithmatic in `datetime`. \n",
    "\n",
    "This is something I suggested against, but you will need to do sometimes if you need to compare across day, months or years."
   ]
  },
  {
   "cell_type": "code",
   "execution_count": null,
   "metadata": {},
   "outputs": [],
   "source": [
    "old = datetime.datetime.now()\n",
    "time.sleep(3)\n",
    "new = datetime.datetime.now()\n",
    "\n",
    "time_diff = new - old\n",
    "print(time_diff)\n",
    "print(type(time_diff))"
   ]
  },
  {
   "cell_type": "markdown",
   "metadata": {},
   "source": [
    "### same implemenation in `time`"
   ]
  },
  {
   "cell_type": "code",
   "execution_count": null,
   "metadata": {},
   "outputs": [],
   "source": [
    "old = time.time()\n",
    "time.sleep(3)\n",
    "new = time.time()\n",
    "\n",
    "time_diff = new - old\n",
    "print(time_diff)\n",
    "print(type(time_diff))"
   ]
  },
  {
   "cell_type": "markdown",
   "metadata": {},
   "source": [
    "## What are the big takeaways from `time` and `datetime`?\n",
    "When covering the `time` package I focused more on how you can use time to help you functions\n",
    "\n",
    "When covering the `datetime` package I focused more on how to access the multitude tools of the package most of which handle formatting what part of the date you want.\n",
    "\n",
    "the `datetime` package becomes more powerful when you start using it to power conditional statements and super useful for formatting `datetime` information to record when events occurred and then put that information into a database\n"
   ]
  },
  {
   "cell_type": "markdown",
   "metadata": {},
   "source": [
    "## How to use both `time` and `datetime` together?\n",
    "I will preview some code where time data is added to a database from my upcoming supreme bot project \n",
    "# 🤫🤫🤫🤫🤫🤫\n",
    "# 🤭🤭🤭🤭🤭🤭\n",
    "# 😤😤😤😤😤😤\n",
    "\n",
    "This is function occurs when this custom created thread is `thead.start()`ed"
   ]
  },
  {
   "cell_type": "code",
   "execution_count": null,
   "metadata": {},
   "outputs": [],
   "source": [
    "def run(self):\n",
    "        \"\"\"\n",
    "        Run Condition:\n",
    "            This Function runs when the instance of the\n",
    "            thread is started (thread.start() in create_threads())\n",
    "\n",
    "        Functionality:\n",
    "            Thread solves a captcha and\n",
    "            pushes captcha text to sorted_captchas if solved correctly\n",
    "        \"\"\"\n",
    "        start = time.time()\n",
    "\n",
    "        # solves captcha and out puts google captcha response value\n",
    "        captcha = get_captcha()\n",
    "\n",
    "        elapsed = start - time.time()\n",
    "        print(f'captcha thread{self.id} complete - {elapsed}s\\n')\n",
    "\n",
    "        # Add captcha data to csv\n",
    "        # This will be used for future analysis\n",
    "        with open('captcha.csv','a') as csvfile:\n",
    "            row = {'captcha':captcha.captcha,\n",
    "            'text': captcha.text, \n",
    "            'time': datetime.datetime.today().time(), \n",
    "            'date': datetime.datetime.today().date(),\n",
    "            'weekday': datetime.datetime.today().weekday(), \n",
    "            'elapsed': elapsed}\n",
    "\n",
    "            fieldnames = ['captcha', 'text', 'time','date', 'weekday', 'elapsed']\n",
    "            captcha_csv = csv.DictWriter(csvfile,fieldnames)\n",
    "            captcha_csv.writerow(row)"
   ]
  },
  {
   "cell_type": "markdown",
   "metadata": {},
   "source": [
    "Here `time` is used for time arithmetic because `datetime.timedelta` is super annoying to use and format correctly.\n",
    "\n",
    "Then I use `datetime` to grab date related attributes for the database. These functions return in a very pretty format and I trust this package to handle this more than me sclicing string and placing into the database.\n",
    "\n",
    "Could I use only `datetime`?  \n",
    "Yes.\n",
    "\n",
    "I try to avoid performing too much time based arithmetic with `datetime` because it can get tricky, but in the future I might try it out to see how it can work just using 1 time package."
   ]
  },
  {
   "cell_type": "markdown",
   "metadata": {},
   "source": [
    "# Novel Ideas"
   ]
  },
  {
   "cell_type": "markdown",
   "metadata": {},
   "source": [
    "### Does calling `time.time()` and `datetime.datetime` get repetitive?\n",
    "I was playing around with how to import the package and will give my thoughts on\n",
    "what is the best format\n",
    "\n",
    "Since these packages are called the same way I will just do all the examples with `time`"
   ]
  },
  {
   "cell_type": "code",
   "execution_count": null,
   "metadata": {},
   "outputs": [],
   "source": [
    "from time import time\n",
    "print(time())\n",
    "time"
   ]
  },
  {
   "cell_type": "markdown",
   "metadata": {},
   "source": [
    "This example above would be annoying because when you refer to `time` now it is `time.time()`. This would be dangerous because you would not be able to access other `time` functions"
   ]
  },
  {
   "cell_type": "code",
   "execution_count": null,
   "metadata": {},
   "outputs": [],
   "source": [
    "import time as t\n",
    "print(t.time())\n",
    "t"
   ]
  },
  {
   "cell_type": "markdown",
   "metadata": {},
   "source": [
    "This is a little better because `t` is now `time` so other functions can be accessed like `t.clock()`\n",
    "\n",
    "But I would still advise against it because `t` has low informational value and not already widely used so it would confuse future readers of your code.\n",
    "\n",
    "I think of examples such as for popular import statement abbreviations:  \n",
    "```python\n",
    "import pandas as pd\n",
    "import numpy as np\n",
    "```\n",
    "\n",
    "`time` and `timedelta` both are missing a high informational value 2 letter abbreviation so I would advise against using any other naming convention\n",
    "\n",
    "But damn does calling `time.time()` and `datetime.datetime.today()` get annoying to look at."
   ]
  },
  {
   "cell_type": "markdown",
   "metadata": {},
   "source": [
    "# That's it\n",
    "Hopefully you enjoyed my breakdown of the `time` and `datetime` packages and will walk away with more than just details about each package, but their **strengths** and *weaknesses*"
   ]
  }
 ],
 "metadata": {
  "kernelspec": {
   "display_name": "Python 3",
   "language": "python",
   "name": "python3"
  },
  "language_info": {
   "codemirror_mode": {
    "name": "ipython",
    "version": 3
   },
   "file_extension": ".py",
   "mimetype": "text/x-python",
   "name": "python",
   "nbconvert_exporter": "python",
   "pygments_lexer": "ipython3",
   "version": "3.6.6"
  }
 },
 "nbformat": 4,
 "nbformat_minor": 2
}
