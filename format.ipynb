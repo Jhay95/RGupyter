{
 "cells": [
  {
   "cell_type": "markdown",
   "metadata": {},
   "source": [
    "# Exploring advanced functionality of `print()`\n",
    "Read these for a comprehensive analysis of the\n",
    "1. [The print() documentation in Python](https://docs.python.org/3/library/functions.html#print)  \n",
    "2. [The Input and Output tutorial by the Python Software Foundation](https://docs.python.org/3/tutorial/inputoutput.html)"
   ]
  },
  {
   "cell_type": "markdown",
   "metadata": {},
   "source": [
    "`print(*objects, sep=' ', end='\\n', file=sys.stdout, flush=False*)`  \n",
    "Print objects to the text stream file, separated by sep and followed by end. sep, end, file and flush, if present, must be given as keyword arguments.\n",
    "\n",
    "All non-keyword arguments are converted to strings like str() does and written to the stream, separated by sep and followed by end. Both sep and end must be strings; they can also be None, which means to use the default values. If no objects are given, print() will just write end.\n",
    "\n",
    "The file argument must be an object with a write(string) method; if it is not present or None, sys.stdout will be used. Since printed arguments are converted to text strings, print() cannot be used with binary mode file objects. For these, use file.write(...) instead.\n",
    "\n",
    "Whether output is buffered is usually determined by file, but if the flush keyword argument is true, the stream is forcibly flushed."
   ]
  },
  {
   "cell_type": "markdown",
   "metadata": {},
   "source": [
    "### Important attributes in print()\n",
    "The most important attribute I learned about print statement is the `end` attribute  \n",
    "\n",
    "The biggest advantage of using the `end` attribute in the `print()` statement is you don't have to pass new line characters into the print statement as an object\n",
    "\n",
    "Also I think using `end` looks cleaner, even if people later read your code it"
   ]
  },
  {
   "cell_type": "markdown",
   "metadata": {},
   "source": [
    "#### First lets talk about how `print()` and `end` work together\n",
    "\n",
    "Print objects to the text stream file, separated by sep and followed by end\n",
    "\n",
    "By default `end = '\\n'`"
   ]
  },
  {
   "cell_type": "code",
   "execution_count": 1,
   "metadata": {},
   "outputs": [
    {
     "name": "stdout",
     "output_type": "stream",
     "text": [
      "top string\n",
      "^^^ by default there is always a new line\n"
     ]
    }
   ],
   "source": [
    "print('top string')\n",
    "print('^^^ by default there is always a new line')"
   ]
  },
  {
   "cell_type": "markdown",
   "metadata": {},
   "source": [
    "But you already knew thats how it worked  \n",
    "What if we change `end`?"
   ]
  },
  {
   "cell_type": "code",
   "execution_count": 2,
   "metadata": {},
   "outputs": [
    {
     "name": "stdout",
     "output_type": "stream",
     "text": [
      "What happens if we remove the new line character from end?Run on lines\n"
     ]
    }
   ],
   "source": [
    "print('What happens if we remove the new line character from end?', end='')\n",
    "print('Run on lines')"
   ]
  },
  {
   "cell_type": "markdown",
   "metadata": {},
   "source": [
    "I didn't like how the strings just stuck together so let's use a space in `end` now"
   ]
  },
  {
   "cell_type": "code",
   "execution_count": 3,
   "metadata": {},
   "outputs": [
    {
     "name": "stdout",
     "output_type": "stream",
     "text": [
      "What happens if we remove the new line character from end? Run on lines\n"
     ]
    }
   ],
   "source": [
    "print('What happens if we remove the new line character from end?', end=' ')\n",
    "print('Run on lines')"
   ]
  },
  {
   "cell_type": "markdown",
   "metadata": {},
   "source": [
    "#### Reasons for using `end`: \n",
    "* `end` looks cleaner if you are going to add an extra new line character, but want to avoid using string concatenation\n",
    "\n",
    "This is more of a style thing up to your discretion when deemed necessary. Even when doing this I was making the argument for using `end` I realized this was a bit extra, but even seeing a new attribute in the `print()` statement may cause users to be more cautious to what is going on and do a little extra research. "
   ]
  },
  {
   "cell_type": "code",
   "execution_count": 4,
   "metadata": {},
   "outputs": [
    {
     "name": "stdout",
     "output_type": "stream",
     "text": [
      "discover\n",
      "\n",
      "discover\n",
      "\n",
      "This line is here to see the new line\n"
     ]
    }
   ],
   "source": [
    "def discover():\n",
    "    x = 'discover'\n",
    "    return x\n",
    "\n",
    "# These work the same way\n",
    "print(discover(), end = '\\n\\n')\n",
    "print(discover()+'\\n')\n",
    "print('This line is here to see the new line')"
   ]
  },
  {
   "cell_type": "markdown",
   "metadata": {},
   "source": [
    "* you want to add extra text to the end of each `print()` statement\n",
    "\n",
    "This could help you out if you want to improve formatting and separation of `print()` statement for an entire program instead of having extra `print()` statements"
   ]
  },
  {
   "cell_type": "code",
   "execution_count": null,
   "metadata": {},
   "outputs": [],
   "source": [
    "line = '-------------------------------------------------------'\n",
    "\n",
    "# Sneak preview on the useful ness of formatting outside of print()\n",
    "for quarter_num in range(1,13):\n",
    "    print(f'quarter {quarter_num} results: profit', end=f'\\n{line}\\n')"
   ]
  },
  {
   "cell_type": "markdown",
   "metadata": {},
   "source": [
    "* you want to remove the newline character from the `print()` statement  \n",
    "\n",
    "Maybe you are doing some art project where you `print()` random numbers with no spaces"
   ]
  },
  {
   "cell_type": "code",
   "execution_count": null,
   "metadata": {},
   "outputs": [],
   "source": [
    "import random\n",
    "for i in range(10):\n",
    "    rand = random.randint(1,10000)\n",
    "    print(rand, end = '')"
   ]
  },
  {
   "cell_type": "markdown",
   "metadata": {},
   "source": [
    "# *Formated string literals* or *f-strings* in Python version 3.6 or greater\n",
    "\n",
    "[If you want check the feature documentation click here](https://docs.python.org/3/reference/lexical_analysis.html#f-strings)\n",
    "\n",
    "While making this I found [this link on string formatting](https://realpython.com/python-string-formatting/) that takes my general approach and has this nice graphic on *when* and **why** each type of string formatting should be used. \n",
    "\n",
    "![](https://files.realpython.com/media/python-string-formatting-flowchart.4ecf0148fd87.png)"
   ]
  },
  {
   "cell_type": "markdown",
   "metadata": {},
   "source": [
    "Since the current Python version is 3.7 I will just go over the formated string literals method because it is all I use now.\n",
    "\n",
    "The basics of f-string is to place an `f` or `F` before either your `''` or `\"\"` in a string with expressions delimited by curly braces `{}`"
   ]
  },
  {
   "cell_type": "code",
   "execution_count": null,
   "metadata": {},
   "outputs": [],
   "source": [
    "name = 'Ryan'\n",
    "\n",
    "# Same results\n",
    "print(f'My name is {name} Glenn')\n",
    "print('My name is',name,'Glenn')\n",
    "\n",
    "# You can handle this string formatting at many different times\n",
    "# I would pick the way that looks the best and is logically simple\n",
    "pre_formated = f'My name is {name} Glenn'\n",
    "print(pre_formated)"
   ]
  },
  {
   "cell_type": "markdown",
   "metadata": {},
   "source": [
    "I often use this string formatting inside a `print()` statement to pass in variables\n",
    "\n",
    "This works well for testing loops to track variables"
   ]
  },
  {
   "cell_type": "code",
   "execution_count": null,
   "metadata": {},
   "outputs": [],
   "source": [
    "for index in range(5):\n",
    "    print(f'loop itteration {index}')"
   ]
  },
  {
   "cell_type": "markdown",
   "metadata": {},
   "source": [
    "You can perform operations inside the curly braces `{}`"
   ]
  },
  {
   "cell_type": "code",
   "execution_count": null,
   "metadata": {},
   "outputs": [],
   "source": [
    "x = 4\n",
    "y = 4\n",
    "print(f'the operation equals {x+y}')"
   ]
  },
  {
   "cell_type": "markdown",
   "metadata": {},
   "source": [
    "## Formatted string literals format_spec"
   ]
  },
  {
   "cell_type": "markdown",
   "metadata": {},
   "source": [
    "[Read about the format_spec](https://docs.python.org/3/library/string.html#formatspec)\n",
    "\n",
    "Created before the new f-string format this can be used in the string to provide improved formatting to numbers\n",
    "\n",
    "There is a lot of functionality with this, but I will just cover basic int or float formatting to string\n",
    "\n",
    "The format as seen in below examples is `f'{value:width.precision}'`\n",
    "\n",
    "where\n",
    "\n",
    "`value` = float or decimal  \n",
    "\n",
    "`width` = is a decimal integer defining the minimum field width. If not specified, then the field width will be determined by the content.\n",
    "\n",
    "`precision` = The precision is a decimal number indicating how many digits should be displayed after the decimal point for a floating point value "
   ]
  },
  {
   "cell_type": "code",
   "execution_count": null,
   "metadata": {},
   "outputs": [],
   "source": [
    "import decimal\n",
    "\n",
    "width = 10\n",
    "percision = 1\n",
    "\n",
    "z = decimal.Decimal(\"1234.34567\")\n",
    "z_str = f'{z:{width}.{percision}f}'\n",
    "print(z_str)"
   ]
  },
  {
   "cell_type": "markdown",
   "metadata": {},
   "source": [
    "This will add commas where called needed"
   ]
  },
  {
   "cell_type": "code",
   "execution_count": null,
   "metadata": {},
   "outputs": [],
   "source": [
    "z = 1005550\n",
    "z_str = f'{z:,}'\n",
    "print(z_str)"
   ]
  },
  {
   "cell_type": "markdown",
   "metadata": {},
   "source": [
    "You can do just precision like this"
   ]
  },
  {
   "cell_type": "code",
   "execution_count": null,
   "metadata": {},
   "outputs": [],
   "source": [
    "z = 12.34524523452452452\n",
    "z_str = f'{z:.2f}'\n",
    "print(z_str)"
   ]
  },
  {
   "cell_type": "markdown",
   "metadata": {},
   "source": [
    "## Thanks for reading!!"
   ]
  }
 ],
 "metadata": {
  "kernelspec": {
   "display_name": "Python 3",
   "language": "python",
   "name": "python3"
  },
  "language_info": {
   "codemirror_mode": {
    "name": "ipython",
    "version": 3
   },
   "file_extension": ".py",
   "mimetype": "text/x-python",
   "name": "python",
   "nbconvert_exporter": "python",
   "pygments_lexer": "ipython3",
   "version": "3.6.6"
  }
 },
 "nbformat": 4,
 "nbformat_minor": 2
}
