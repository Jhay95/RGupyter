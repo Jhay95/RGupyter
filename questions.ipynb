{
 "cells": [
  {
   "cell_type": "markdown",
   "metadata": {},
   "source": [
    "# Best looping practices?\n",
    "## Which is better A or B?\n",
    "## Which is better 1 or 2?"
   ]
  },
  {
   "cell_type": "code",
   "execution_count": 37,
   "metadata": {},
   "outputs": [
    {
     "name": "stdout",
     "output_type": "stream",
     "text": [
      "listA1: [1, 1, 1]\n",
      "listA2: [1, 1, 1]\n"
     ]
    }
   ],
   "source": [
    "def functionA(x):\n",
    "    return x + 1 \n",
    "    \n",
    "listA = [0,0,0]\n",
    "listA1 = []\n",
    "listA2 = []\n",
    "\n",
    "# A1\n",
    "for x in listA:\n",
    "    x = functionA(x)\n",
    "    listA1.append(x)\n",
    "# A2\n",
    "for x in listA:\n",
    "    listA2.append(functionA(x))\n",
    "\n",
    "print(f'listA1: {listA1}\\nlistA2: {listA2}')"
   ]
  },
  {
   "cell_type": "code",
   "execution_count": 29,
   "metadata": {},
   "outputs": [
    {
     "name": "stdout",
     "output_type": "stream",
     "text": [
      "listB1: [1, 1, 1]\n",
      "listB2: [1, 1, 1]\n"
     ]
    }
   ],
   "source": [
    "def functionB1(listB):\n",
    "    new_listB = []\n",
    "    for x in listB:\n",
    "        x += 1\n",
    "        new_listB.append(x)\n",
    "    return new_listB\n",
    "\n",
    "def functionB2(listB):\n",
    "    new_listB = []\n",
    "    for x in listB:\n",
    "        new_listB.append(x+1)\n",
    "    return new_listB\n",
    "        \n",
    "listB = [0,0,0]\n",
    "listB1 = functionB1(listB)\n",
    "listB2 = functionB2(listB)\n",
    "print(f'listB1: {listB1}\\nlistB2: {listB2}')"
   ]
  },
  {
   "cell_type": "markdown",
   "metadata": {},
   "source": [
    "# Best ways to handle list broadcasting\n",
    "How do you run a function on a list without passing it in or returning it?"
   ]
  },
  {
   "cell_type": "markdown",
   "metadata": {},
   "source": [
    "## Move items from old list, perform action, append to new list\n",
    "I think creating a new list to just append to another it is a little extra. \n",
    "\n",
    "if we are going to do the same action on every item in a list let them stay in the same list"
   ]
  },
  {
   "cell_type": "code",
   "execution_count": 6,
   "metadata": {},
   "outputs": [
    {
     "data": {
      "text/plain": [
       "[3, 2]"
      ]
     },
     "execution_count": 6,
     "metadata": {},
     "output_type": "execute_result"
    }
   ],
   "source": [
    "# 6 lines\n",
    "def function1(list1):\n",
    "    new_list = []\n",
    "    for x in list1:\n",
    "        x += 1\n",
    "        new_list.append(x)\n",
    "    return new_list\n",
    "\n",
    "function1([2,1])"
   ]
  },
  {
   "cell_type": "markdown",
   "metadata": {},
   "source": [
    "## Index accessing\n",
    "Removes the creation of an extra list and having to appending the updated value"
   ]
  },
  {
   "cell_type": "code",
   "execution_count": 13,
   "metadata": {},
   "outputs": [
    {
     "data": {
      "text/plain": [
       "[3, 2]"
      ]
     },
     "execution_count": 13,
     "metadata": {},
     "output_type": "execute_result"
    }
   ],
   "source": [
    "# 4 lines\n",
    "def funciton2(list2):\n",
    "    for i, x in enumerate(list2):\n",
    "        list2[i] = x + 1\n",
    "    return list2\n",
    "\n",
    "function2([2,1])"
   ]
  },
  {
   "cell_type": "markdown",
   "metadata": {},
   "source": [
    "## lambda map\n",
    "This is a short option, but it is very confusing"
   ]
  },
  {
   "cell_type": "code",
   "execution_count": 20,
   "metadata": {},
   "outputs": [
    {
     "name": "stdout",
     "output_type": "stream",
     "text": [
      "[3, 2]\n"
     ]
    }
   ],
   "source": [
    "# 2 lines\n",
    "list3 = [2,1]\n",
    "list3 = list(map(lambda x: x + 1, list3))\n",
    "\n",
    "print(list3)"
   ]
  },
  {
   "cell_type": "markdown",
   "metadata": {},
   "source": [
    "## Numpy Broadcasting\n",
    "read more about [Broadcasting in Numpy](https://docs.scipy.org/doc/numpy-1.10.0/user/basics.broadcasting.html)"
   ]
  },
  {
   "cell_type": "code",
   "execution_count": 18,
   "metadata": {},
   "outputs": [
    {
     "name": "stdout",
     "output_type": "stream",
     "text": [
      "[3 2]\n",
      "[3 2]\n"
     ]
    }
   ],
   "source": [
    "import numpy as np\n",
    "\n",
    "def function4(list4):\n",
    "    list4 = list4 + 1\n",
    "    return list4\n",
    "\n",
    "list4 = np.array([2,1])\n",
    "list4 = function4(list4)\n",
    "print(list4)\n",
    "\n",
    "# Or better yet\n",
    "\n",
    "list4 = np.array([2,1]) + 1\n",
    "print(list4)"
   ]
  },
  {
   "cell_type": "markdown",
   "metadata": {},
   "source": [
    "## Python list comprehension"
   ]
  },
  {
   "cell_type": "code",
   "execution_count": 23,
   "metadata": {},
   "outputs": [
    {
     "data": {
      "text/plain": [
       "[3, 2]"
      ]
     },
     "execution_count": 23,
     "metadata": {},
     "output_type": "execute_result"
    }
   ],
   "source": [
    "[x+1 for x in [2,1]]"
   ]
  },
  {
   "cell_type": "code",
   "execution_count": 24,
   "metadata": {},
   "outputs": [
    {
     "name": "stdout",
     "output_type": "stream",
     "text": [
      "[3, 2]\n"
     ]
    }
   ],
   "source": [
    "def function5(x):\n",
    "    return x + 1\n",
    "\n",
    "list5 = [function5(x) for x in [2,1]]\n",
    "print(list5)"
   ]
  },
  {
   "cell_type": "markdown",
   "metadata": {},
   "source": [
    "----\n",
    "# Criteria for type of loop\n",
    "Obviously most of these examples above over complicates a simple operation on all items in a list, but I did this to cover a wide range of options you have to apply functions to all items of a list. As you can see they all do the same, but which one do you choose?\n",
    "\n",
    "# For looping, I select the solution that is the most readable\n",
    "## while balancing 2 ideas **instant readability** and **long term maintainability**\n",
    "\n",
    "### Instant readability\n",
    "\n",
    "#### If someone else reads this code will they:   \n",
    "Instantly understand its purpose?   \n",
    "*or*   \n",
    "Have to spend minutes traversing your code following variables with their fingers?  \n",
    "\n",
    "### Long term maintainability\n",
    "\n",
    "\n",
    "#### If **you** or someone else reads this code in 6 months will they:\n",
    "Be able to scroll through the code and get the high level ideas?  \n",
    "*or*  \n",
    "Have to spend hours sifting through your complicated, uncommented code reverse engineering the whole project?  \n",
    "\n",
    "\n",
    "# What type of programmer do you want to be?\n",
    "\n",
    "----\n",
    "\n",
    "Taking some excerpted advice from [Python Enhancement Proposal 20](https://www.python.org/dev/peps/pep-0020/)   \n",
    "```\n",
    "Complex is better than complicated.\n",
    "Readability counts.\n",
    "If the implementation is hard to explain, it's a bad idea.\n",
    "If the implementation is easy to explain, it may be a good idea.\n",
    "```\n",
    "Bringing that together my philosophy is to write **complex**, **readable**, and **easy to explain code**.\n",
    "\n",
    "When I am not able to fulfill those principles with python code alone I turn to *commenting*. Relying on commenting just the same way you rely on your `for` loops can bring extra **readability** to code that is not just reiterating what is visible in the code. I will cover more of this in the future, but it is always best practices to make your code as readable and easy to explain as possible without commenting then move to commenting to explain **complex** parts.\n",
    "\n",
    "\n",
    "To help readability I often look at the lengths of my repeatable operations and ask some more questions.\n",
    "\n",
    "## Many complex operations and function calls? \n",
    "Look at creating a function for all that work. Pretend `function()` is a function with 50 lines of code.\n",
    "```python\n",
    "new_list = []\n",
    "for x in listx:\n",
    "    new_list.append(function(x))\n",
    "```\n",
    "## Single line operation?\n",
    "Tools like list comprehension, broadcasting, and mapping can help reduce the total lines of code from `for` loops and creating temporary\n",
    "```python\n",
    "squared_list = [x**2 x in listx]\n",
    "```\n",
    "---"
   ]
  },
  {
   "cell_type": "markdown",
   "metadata": {},
   "source": [
    "Every small decision you make in your code is the same as every stroke a painter makes in a painting.  \n",
    "Make every action deliberate. "
   ]
  }
 ],
 "metadata": {
  "kernelspec": {
   "display_name": "Python 3",
   "language": "python",
   "name": "python3"
  },
  "language_info": {
   "codemirror_mode": {
    "name": "ipython",
    "version": 3
   },
   "file_extension": ".py",
   "mimetype": "text/x-python",
   "name": "python",
   "nbconvert_exporter": "python",
   "pygments_lexer": "ipython3",
   "version": "3.6.6"
  }
 },
 "nbformat": 4,
 "nbformat_minor": 2
}
