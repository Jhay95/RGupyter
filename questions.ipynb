{
 "cells": [
  {
   "cell_type": "markdown",
   "metadata": {},
   "source": [
    "# Which is a better to handle repetitive actions?\n",
    "## Which is better A or B?\n",
    "## Which is better 1 or 2?"
   ]
  },
  {
   "cell_type": "code",
   "execution_count": 37,
   "metadata": {},
   "outputs": [
    {
     "name": "stdout",
     "output_type": "stream",
     "text": [
      "listA1: [1, 1, 1]\n",
      "listA2: [1, 1, 1]\n"
     ]
    }
   ],
   "source": [
    "def functionA(x):\n",
    "    return x + 1 \n",
    "    \n",
    "listA = [0,0,0]\n",
    "listA1 = []\n",
    "listA2 = []\n",
    "\n",
    "# A1\n",
    "for x in listA:\n",
    "    x = functionA(x)\n",
    "    listA1.append(x)\n",
    "# A2\n",
    "for x in listA:\n",
    "    listA2.append(functionA(x))\n",
    "\n",
    "print(f'listA1: {listA1}\\nlistA2: {listA2}')"
   ]
  },
  {
   "cell_type": "code",
   "execution_count": 29,
   "metadata": {},
   "outputs": [
    {
     "name": "stdout",
     "output_type": "stream",
     "text": [
      "listB1: [1, 1, 1]\n",
      "listB2: [1, 1, 1]\n"
     ]
    }
   ],
   "source": [
    "def functionB1(listB):\n",
    "    new_listB = []\n",
    "    for x in listB:\n",
    "        x += 1\n",
    "        new_listB.append(x)\n",
    "    return new_listB\n",
    "\n",
    "def functionB2(listB):\n",
    "    new_listB = []\n",
    "    for x in listB:\n",
    "        new_listB.append(x+1)\n",
    "    return new_listB\n",
    "        \n",
    "listB = [0,0,0]\n",
    "listB1 = functionB1(listB)\n",
    "listB2 = functionB2(listB)\n",
    "print(f'listB1: {listB1}\\nlistB2: {listB2}')"
   ]
  },
  {
   "cell_type": "code",
   "execution_count": null,
   "metadata": {},
   "outputs": [],
   "source": []
  },
  {
   "cell_type": "markdown",
   "metadata": {},
   "source": [
    "# Best ways to handle list broadcasting\n",
    "How do you run a function on a list without passing it in or returning it?"
   ]
  },
  {
   "cell_type": "markdown",
   "metadata": {},
   "source": [
    "## Move items from old list, perform action, append to new list\n",
    "I think creating a new list to just append to another it is a little extra. \n",
    "\n",
    "if we are going to do the same action on every item in a list let them stay in the same list"
   ]
  },
  {
   "cell_type": "code",
   "execution_count": 6,
   "metadata": {},
   "outputs": [
    {
     "data": {
      "text/plain": [
       "[3, 2]"
      ]
     },
     "execution_count": 6,
     "metadata": {},
     "output_type": "execute_result"
    }
   ],
   "source": [
    "# 6 lines\n",
    "def function1(list1):\n",
    "    new_list = []\n",
    "    for x in list1:\n",
    "        x += 1\n",
    "        new_list.append(x)\n",
    "    return new_list\n",
    "\n",
    "function1([2,1])"
   ]
  },
  {
   "cell_type": "markdown",
   "metadata": {},
   "source": [
    "## Index accessing"
   ]
  },
  {
   "cell_type": "code",
   "execution_count": 13,
   "metadata": {},
   "outputs": [
    {
     "data": {
      "text/plain": [
       "[3, 2]"
      ]
     },
     "execution_count": 13,
     "metadata": {},
     "output_type": "execute_result"
    }
   ],
   "source": [
    "# 4 lines\n",
    "def funciton2(list2):\n",
    "    for i, x in enumerate(list2):\n",
    "        list2[i] = x + 1\n",
    "    return list2\n",
    "\n",
    "function2([2,1])"
   ]
  },
  {
   "cell_type": "markdown",
   "metadata": {},
   "source": [
    "## lambda map\n",
    "This is a short option, but it is very confusing"
   ]
  },
  {
   "cell_type": "code",
   "execution_count": 1,
   "metadata": {},
   "outputs": [],
   "source": [
    "# 2 lines\n",
    "list3 = [2,1]\n",
    "list3 = list(map(lambda x: x + 1, list3))"
   ]
  },
  {
   "cell_type": "markdown",
   "metadata": {},
   "source": [
    "## Numpy Broadcasting"
   ]
  },
  {
   "cell_type": "code",
   "execution_count": 5,
   "metadata": {},
   "outputs": [
    {
     "name": "stdout",
     "output_type": "stream",
     "text": [
      "[2 1]\n"
     ]
    }
   ],
   "source": [
    "import numpy as np\n",
    "list4 = np.array([2,1])"
   ]
  },
  {
   "cell_type": "code",
   "execution_count": null,
   "metadata": {},
   "outputs": [],
   "source": []
  }
 ],
 "metadata": {
  "kernelspec": {
   "display_name": "Python 3",
   "language": "python",
   "name": "python3"
  },
  "language_info": {
   "codemirror_mode": {
    "name": "ipython",
    "version": 3
   },
   "file_extension": ".py",
   "mimetype": "text/x-python",
   "name": "python",
   "nbconvert_exporter": "python",
   "pygments_lexer": "ipython3",
   "version": "3.6.6"
  }
 },
 "nbformat": 4,
 "nbformat_minor": 2
}
