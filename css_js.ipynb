{
 "cells": [
  {
   "cell_type": "markdown",
   "metadata": {},
   "source": [
    "# JS/CSS/HTML with JupyterLab  \n",
    "# (DON'T RUN CODE UNTIL YOU READ ALL OF MY TEXT)\n",
    "\n",
    "Real time commit history of my growth  \n",
    "of applying JS/CSS/HTML inside JupyterLab using tools   \n",
    "IPython, widgets, and extensions.\n",
    "\n",
    "Friday, October 19th:\n",
    "\n",
    "I was playing around with css values and ran into an interesting problem.\n",
    "I wanted to use the html in markdown cell with custom styling. I was only having success with over riding the styles of common tag names in my case p and div\n",
    "\n",
    "I was trying random letters and words like rg to see if I could bind the style from style.css to an uncommon tag name, but none of those alternatives were working, so I stuck with common tag names"
   ]
  },
  {
   "cell_type": "markdown",
   "metadata": {},
   "source": [
    "### Contents of style.css \n",
    "```css\n",
    "<style>\n",
    "p{\n",
    "    font-size: 200px;\n",
    "    color: blue;\n",
    "}\n",
    "\n",
    "div{\n",
    "    font-size: 50px;\n",
    "    color: red;\n",
    "    \n",
    "}\n",
    "</style>```"
   ]
  },
  {
   "cell_type": "markdown",
   "metadata": {},
   "source": [
    "The style tags have to appear somewhere to use this file opening HTML() way.  \n",
    "Either in the .css file or using a string concatenation \n",
    "```python\n",
    "HTML('<style>'+style+'</style>')\n",
    "```"
   ]
  },
  {
   "cell_type": "markdown",
   "metadata": {},
   "source": [
    "### Dependencies"
   ]
  },
  {
   "cell_type": "code",
   "execution_count": 57,
   "metadata": {},
   "outputs": [],
   "source": [
    "from IPython.core.display import HTML\n",
    "from jupyter_core.paths import jupyter_config_dir\n",
    "import os.path"
   ]
  },
  {
   "cell_type": "markdown",
   "metadata": {},
   "source": [
    "## CSS importing"
   ]
  },
  {
   "cell_type": "code",
   "execution_count": 58,
   "metadata": {},
   "outputs": [
    {
     "data": {
      "text/html": [
       "<style>\n",
       "/*p{\n",
       "    font-size: 200px;\n",
       "    color: blue;\n",
       "}\n",
       "\n",
       "div{\n",
       "    font-size: 50px;\n",
       "    color: red;\n",
       "    \n",
       "}*/\n",
       "</style>"
      ],
      "text/plain": [
       "<IPython.core.display.HTML object>"
      ]
     },
     "execution_count": 58,
     "metadata": {},
     "output_type": "execute_result"
    }
   ],
   "source": [
    "# This allows for my own custom style.css page to take over\n",
    "# CSS styling for outputs and markdown\n",
    "# CSS rules can affect the notebook top menus –  be careful changing <ul> and <li> rules\n",
    "style = open('style.css', 'r').read()\n",
    "HTML(style)"
   ]
  },
  {
   "cell_type": "markdown",
   "metadata": {},
   "source": [
    "# Revert back to normal styling\n",
    "So the style is going to get crazy you should just run the block below right after to reset back to standard styling"
   ]
  },
  {
   "cell_type": "code",
   "execution_count": 55,
   "metadata": {},
   "outputs": [
    {
     "data": {
      "text/html": [
       "<style>\n",
       "</style>"
      ],
      "text/plain": [
       "<IPython.core.display.HTML object>"
      ]
     },
     "execution_count": 55,
     "metadata": {},
     "output_type": "execute_result"
    }
   ],
   "source": [
    "style = open('style2.css', 'r').read()\n",
    "HTML(style)"
   ]
  },
  {
   "cell_type": "markdown",
   "metadata": {},
   "source": [
    "# Ok just a little bit of styling now"
   ]
  },
  {
   "cell_type": "code",
   "execution_count": 56,
   "metadata": {},
   "outputs": [
    {
     "data": {
      "text/html": [
       "<style>\n",
       "/*p{\n",
       "    font-size: 50px;\n",
       "    color: blue;\n",
       "}*/\n",
       "</style>"
      ],
      "text/plain": [
       "<IPython.core.display.HTML object>"
      ]
     },
     "execution_count": 56,
     "metadata": {},
     "output_type": "execute_result"
    }
   ],
   "source": [
    "style = open('style3.css', 'r').read()\n",
    "HTML(style)"
   ]
  },
  {
   "cell_type": "markdown",
   "metadata": {},
   "source": [
    "ok funny enough I thought I knew how this worked, but all markdown text is already wrapped with a p text so thats why I was getting it to work. I really just picked a random tag to wrap with. So Currently I cannot edit custom tags, but I can edit the tags that Jupyter uses as you saw.\n",
    "\n",
    "And I also just learned that multiple style sheets can run at the same time!!\n",
    "\n",
    "But to make any changes after a catastrpohic font size and color change you have to delete the contents of the file and load that same exact file again with the HTML funciton to overwrite the CSS \n",
    "```python\n",
    "style = open(f'style{x}.css', 'r').read()\n",
    "HTML(style)\n",
    "```"
   ]
  },
  {
   "cell_type": "markdown",
   "metadata": {},
   "source": [
    "It might be useful to turn these 2 lines into a funciton, but I think its fine for now"
   ]
  },
  {
   "cell_type": "markdown",
   "metadata": {},
   "source": [
    "# Hello Rudy\n",
    "# Run These\n",
    "## These are Magicline functions"
   ]
  },
  {
   "cell_type": "code",
   "execution_count": 60,
   "metadata": {},
   "outputs": [
    {
     "data": {
      "application/javascript": [
       "console.log('hello');"
      ],
      "text/plain": [
       "<IPython.core.display.Javascript object>"
      ]
     },
     "metadata": {},
     "output_type": "display_data"
    }
   ],
   "source": [
    "%%javascript\n",
    "console.log('hello');"
   ]
  },
  {
   "cell_type": "markdown",
   "metadata": {},
   "source": [
    "Open your log and the message will be there"
   ]
  },
  {
   "cell_type": "code",
   "execution_count": 61,
   "metadata": {},
   "outputs": [
    {
     "data": {
      "application/javascript": [
       "alert('hello')"
      ],
      "text/plain": [
       "<IPython.core.display.Javascript object>"
      ]
     },
     "metadata": {},
     "output_type": "display_data"
    }
   ],
   "source": [
    "%%javascript\n",
    "alert('hello')"
   ]
  },
  {
   "cell_type": "markdown",
   "metadata": {},
   "source": [
    "## Just imagine what you can do with these"
   ]
  },
  {
   "cell_type": "markdown",
   "metadata": {},
   "source": [
    "# JS importing\n",
    "There are similar things going on here"
   ]
  },
  {
   "cell_type": "code",
   "execution_count": 62,
   "metadata": {},
   "outputs": [],
   "source": [
    "def read_js():\n",
    "    \"\"\"\n",
    "    Functionality:\n",
    "        Finds the custom.js file and returns the custom.js file\n",
    "        \n",
    "    Output:\n",
    "        js text\n",
    "    \n",
    "    \"\"\"\n",
    "    jupyter_dir = jupyter_config_dir()\n",
    "    custom_js_path = os.path.join(jupyter_dir, 'custom', 'custom.js')\n",
    "    if os.path.isfile(custom_js_path):\n",
    "        with open(custom_js_path) as f:\n",
    "            js = f.read()\n",
    "    else:\n",
    "        print(\"You don't have a custom.js file\")\n",
    "        return\n",
    "    \n",
    "    return js"
   ]
  },
  {
   "cell_type": "code",
   "execution_count": 63,
   "metadata": {},
   "outputs": [
    {
     "data": {
      "text/html": [
       "<script>alert(\"hello world from custom.js\");</script>"
      ],
      "text/plain": [
       "<IPython.core.display.HTML object>"
      ]
     },
     "metadata": {},
     "output_type": "display_data"
    }
   ],
   "source": [
    "js = read_js()\n",
    "display(HTML(js))"
   ]
  },
  {
   "cell_type": "markdown",
   "metadata": {},
   "source": [
    "So I got the custom.js alert to call, but I'm not sure how I really have it working"
   ]
  },
  {
   "cell_type": "code",
   "execution_count": null,
   "metadata": {},
   "outputs": [],
   "source": []
  }
 ],
 "metadata": {
  "kernelspec": {
   "display_name": "Python 3",
   "language": "python",
   "name": "python3"
  },
  "language_info": {
   "codemirror_mode": {
    "name": "ipython",
    "version": 3
   },
   "file_extension": ".py",
   "mimetype": "text/x-python",
   "name": "python",
   "nbconvert_exporter": "python",
   "pygments_lexer": "ipython3",
   "version": "3.6.6"
  }
 },
 "nbformat": 4,
 "nbformat_minor": 2
}
