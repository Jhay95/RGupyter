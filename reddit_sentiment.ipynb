{
 "cells": [
  {
   "cell_type": "markdown",
   "metadata": {},
   "source": [
    "# Introduciton\n",
    "This is an idea I had before after completing this [tutorial](   https://www.learndatasci.com/tutorials/sentiment-analysis-reddit-headlines-pythons-nltk/) on sentiment analysis on reddit headlines  \n",
    "\n",
    "[reddit](https://www.reddit.com) is a forum website where people can create subreddits that are communities based on shared interest  \n",
    "\n",
    "Users post a `submission` to a specific `subreddit` where their visibility is controlled by upvotes and downvotes\n",
    "\n",
    "Each `submission` has a comment sections where users can `comment` and reply to other users comments\n",
    "\n",
    "I wanted to be able take the average sentiment score of every `comment` in a `submission` for a variety of reasons.\n",
    "\n",
    "Sometimes `comment` sections get very negative and it would be interesting to alert the user before they enter the `comment` section. Maybe the positivity of a `comment` section would entice a user to read comments to feel better.\n",
    "\n",
    "While doing this project I realized that I created an engine that could be used for further analysis to pull entire front pages of a `subreddit` and take the average sentiment of all `submissions` and give that subreddit an average `comment` sentiment score"
   ]
  },
  {
   "cell_type": "markdown",
   "metadata": {},
   "source": [
    "# Design ideas I had while creating this\n",
    "\n",
    "In the program I wanted to have this persisting database in the form of a pandas `DataFrame`  \n",
    "\n",
    "The 2 reasons I used the `DataFrame`\n",
    "### 1. Easy to perform data analysis on columns  \n",
    "with functionality like   \n",
    "`df['label'].mean()`  \n",
    "it is very easy to find the average sentiment score for a `submission` or `subreddit`  \n",
    "#### 2. `DataFrame` format can be written into a database easily"
   ]
  },
  {
   "cell_type": "markdown",
   "metadata": {},
   "source": [
    "# Imports"
   ]
  },
  {
   "cell_type": "code",
   "execution_count": 44,
   "metadata": {},
   "outputs": [],
   "source": [
    "from IPython import display\n",
    "import math\n",
    "from pprint import pprint\n",
    "import pandas as pd\n",
    "import numpy as np\n",
    "import nltk\n",
    "import matplotlib.pyplot as plt\n",
    "import seaborn as sns\n",
    "import praw\n",
    "sns.set(style='darkgrid', context='talk', palette='Dark2')\n",
    "from nltk.sentiment.vader import SentimentIntensityAnalyzer as SIA"
   ]
  },
  {
   "cell_type": "markdown",
   "metadata": {},
   "source": [
    "# Instanstiate the Reddit API and SentimentIntensityAnalyzer"
   ]
  },
  {
   "cell_type": "code",
   "execution_count": 45,
   "metadata": {},
   "outputs": [],
   "source": [
    "# Initializes our reddit account api key\n",
    "reddit = praw.Reddit(client_id='qmZ3LnUz_MoIKQ',\n",
    "                     client_secret='aMCbdqbHUbQR7DO4w8XRxxVRplY',\n",
    "                     user_agent='SargentPancakeZ')\n",
    "# Initializes pretrainded sentiment model\n",
    "sia = SIA()"
   ]
  },
  {
   "cell_type": "markdown",
   "metadata": {},
   "source": [
    "# Sentiment Analysis Functions()"
   ]
  },
  {
   "cell_type": "code",
   "execution_count": 46,
   "metadata": {},
   "outputs": [],
   "source": [
    "def compare_subreddits(subreddits):\n",
    "    \"\"\"\n",
    "    Input:\n",
    "        list of subreddit names\n",
    "    \n",
    "    Output:\n",
    "        DataFrame with sentiment analysis for all comments from 25 submissions \n",
    "        on front page of subreddits passed in by user\n",
    "    \"\"\"\n",
    "    subreddit_sentiments = pd.DataFrame()\n",
    "    for subreddit in subreddits:\n",
    "        print(f'[compare_subreddits] starting {subreddit} sentiment analysis')\n",
    "        print('--------------------------------------------------------------')\n",
    "        subreddit_sentiment_df = subreddit_sentiment(subreddit)\n",
    "        subreddit_sentiments = subreddit_sentiments.append(subreddit_sentiment_df, ignore_index=True)\n",
    "        \n",
    "    return subreddit_sentiments"
   ]
  },
  {
   "cell_type": "code",
   "execution_count": 47,
   "metadata": {},
   "outputs": [],
   "source": [
    "def subreddit_sentiment(subreddit):\n",
    "    \"\"\"\n",
    "    Input:\n",
    "        subreddit\n",
    "\n",
    "    Functionality:\n",
    "        Collects comment sentiment from the 25 submissions on the front page of a subreddit\n",
    "        \n",
    "    Ouput:\n",
    "        Comment sentiments for 25 posts on the front page of user supplied subreddit\n",
    "        \n",
    "    \n",
    "    \"\"\"\n",
    "    # Create DataFrame that all submission comment sentiments will be appended into\n",
    "    submission_sentiments = pd.DataFrame()\n",
    "    for submission in reddit.subreddit(subreddit).hot(limit=25):\n",
    "        print(f'[{subreddit}_sentiment]: starting submission {submission}')\n",
    "        submission_sentiment = submission_comment_sentiment(submission)\n",
    "        submission_sentiments = submission_sentiments.append(submission_sentiment, ignore_index=True)\n",
    "        \n",
    "    print('--------------------------------------------------------------')\n",
    "    return submission_sentiments"
   ]
  },
  {
   "cell_type": "code",
   "execution_count": 48,
   "metadata": {},
   "outputs": [],
   "source": [
    "def submission_comment_sentiment(submission):\n",
    "    \"\"\"\n",
    "    Input:\n",
    "        praw.models.submission instance\n",
    "        https://praw.readthedocs.io/en/latest/code_overview/models/submission.html?highlight=submission\n",
    "    \n",
    "    Functionality:\n",
    "        Takes submission, parses all comments, gives sentiment score for each comment, and places into DataFrame\n",
    "    \n",
    "    Output:\n",
    "        A pandas DataFrame of {comment, compound sentiment score, negitive sentiment, neutral sentiment, posititve sentiment}\n",
    "    \"\"\"\n",
    "    comment_sentiments = pd.DataFrame()\n",
    "    # Extact all comments from post and find sentiment\n",
    "    # https://praw.readthedocs.io/en/latest/tutorials/comments.html\n",
    "    submission.comments.replace_more(limit=None)\n",
    "    for comment in submission.comments.list():\n",
    "        comment_sentiment = sia.polarity_scores(comment.body)\n",
    "        comment_sentiment['comment'] = comment.body\n",
    "        comment_sentiment['post_id'] = submission.id\n",
    "        comment_sentiment['subreddit'] = submission.subreddit\n",
    "        comment_sentiments = comment_sentiments.append(comment_sentiment, ignore_index=True)\n",
    "        \n",
    "    comment_sentiments = label_df(comment_sentiments)\n",
    "    return comment_sentiments"
   ]
  },
  {
   "cell_type": "code",
   "execution_count": 49,
   "metadata": {},
   "outputs": [],
   "source": [
    "def label_df(df):\n",
    "    \"\"\"\n",
    "    Input:\n",
    "        Sentiment score DataFrame from submission_comment_sentiment()\n",
    "    \n",
    "    Functionality:\n",
    "        labels DataFrame based on compound sentiment score\n",
    "        \n",
    "        1 = positive\n",
    "        0 = neutral\n",
    "        -1 = negative\n",
    "    \n",
    "    Output:\n",
    "        labeled Dataframe\n",
    "    \"\"\"\n",
    "    #set label to 0 for all posts\n",
    "    df['label'] = 0\n",
    "    #set label to 1 where compound is > .2\n",
    "    df.loc[df['compound'] > 0.2, 'label'] = 1\n",
    "    #set label to -1 where compound is < .2\n",
    "    df.loc[df['compound'] < -0.2, 'label'] = -1\n",
    "    return df"
   ]
  },
  {
   "cell_type": "markdown",
   "metadata": {},
   "source": [
    "# Run the code  \n",
    "politics is a place for political discourse which I thought might have a more negative disposition   \n",
    "aww is a happy place for animal photos"
   ]
  },
  {
   "cell_type": "code",
   "execution_count": 50,
   "metadata": {},
   "outputs": [
    {
     "name": "stdout",
     "output_type": "stream",
     "text": [
      "[compare_subreddits] starting politics sentiment analysis\n",
      "--------------------------------------------------------------\n",
      "[politics_sentiment]: starting submission b8kf27\n",
      "[politics_sentiment]: starting submission b8np4y\n",
      "[politics_sentiment]: starting submission b8loqn\n",
      "[politics_sentiment]: starting submission b8mouf\n",
      "[politics_sentiment]: starting submission b8nskk\n",
      "[politics_sentiment]: starting submission b8lyu3\n",
      "[politics_sentiment]: starting submission b8l8ov\n",
      "[politics_sentiment]: starting submission b8lmlu\n",
      "[politics_sentiment]: starting submission b8mvsh\n",
      "[politics_sentiment]: starting submission b8k6rt\n",
      "[politics_sentiment]: starting submission b8jeum\n",
      "[politics_sentiment]: starting submission b8j1dz\n",
      "[politics_sentiment]: starting submission b8mbvm\n",
      "[politics_sentiment]: starting submission b8kjgh\n",
      "[politics_sentiment]: starting submission b8kuj5\n",
      "[politics_sentiment]: starting submission b8jtcu\n",
      "[politics_sentiment]: starting submission b8n7ze\n",
      "[politics_sentiment]: starting submission b8igkb\n",
      "[politics_sentiment]: starting submission b8l0uh\n",
      "[politics_sentiment]: starting submission b8owmn\n",
      "[politics_sentiment]: starting submission b8o5ix\n",
      "[politics_sentiment]: starting submission b8ptjd\n",
      "[politics_sentiment]: starting submission b8q3d2\n",
      "[politics_sentiment]: starting submission b8m7sw\n",
      "[politics_sentiment]: starting submission b8ir9l\n",
      "--------------------------------------------------------------\n",
      "[compare_subreddits] starting aww sentiment analysis\n",
      "--------------------------------------------------------------\n",
      "[aww_sentiment]: starting submission b64s2b\n",
      "[aww_sentiment]: starting submission b8p3b3\n",
      "[aww_sentiment]: starting submission b8m1vm\n",
      "[aww_sentiment]: starting submission b8l5ka\n",
      "[aww_sentiment]: starting submission b8nef4\n",
      "[aww_sentiment]: starting submission b8ok2e\n",
      "[aww_sentiment]: starting submission b8ljr5\n",
      "[aww_sentiment]: starting submission b8nsby\n",
      "[aww_sentiment]: starting submission b8ka83\n",
      "[aww_sentiment]: starting submission b8nbiu\n",
      "[aww_sentiment]: starting submission b8opuk\n",
      "[aww_sentiment]: starting submission b8kbrz\n",
      "[aww_sentiment]: starting submission b8n0xi\n",
      "[aww_sentiment]: starting submission b8jxg2\n",
      "[aww_sentiment]: starting submission b8hv0z\n",
      "[aww_sentiment]: starting submission b8keg4\n",
      "[aww_sentiment]: starting submission b8o38r\n",
      "[aww_sentiment]: starting submission b8ht16\n",
      "[aww_sentiment]: starting submission b8jbbl\n",
      "[aww_sentiment]: starting submission b8k6oa\n",
      "[aww_sentiment]: starting submission b8i31u\n",
      "[aww_sentiment]: starting submission b8ka21\n",
      "[aww_sentiment]: starting submission b8oe3x\n",
      "[aww_sentiment]: starting submission b8h9u1\n",
      "[aww_sentiment]: starting submission b8iqir\n",
      "--------------------------------------------------------------\n"
     ]
    }
   ],
   "source": [
    "subreddits = ['politics','aww']\n",
    "df = compare_subreddits(subreddits)"
   ]
  },
  {
   "cell_type": "markdown",
   "metadata": {},
   "source": [
    "# Politics Analysis Results\n",
    "The average label and compound scores show that the average comment sentiment tends to be neutral with a slight advantage towards positive"
   ]
  },
  {
   "cell_type": "code",
   "execution_count": 51,
   "metadata": {},
   "outputs": [
    {
     "data": {
      "text/plain": [
       "0.03785966683493185"
      ]
     },
     "execution_count": 51,
     "metadata": {},
     "output_type": "execute_result"
    }
   ],
   "source": [
    "df[df['subreddit'] == 'politics']['label'].mean()"
   ]
  },
  {
   "cell_type": "code",
   "execution_count": 52,
   "metadata": {},
   "outputs": [
    {
     "data": {
      "text/plain": [
       "0.016124520444219966"
      ]
     },
     "execution_count": 52,
     "metadata": {},
     "output_type": "execute_result"
    }
   ],
   "source": [
    "df[df['subreddit'] == 'politics']['compound'].mean()"
   ]
  },
  {
   "cell_type": "code",
   "execution_count": 62,
   "metadata": {},
   "outputs": [
    {
     "data": {
      "image/png": "[encoded data removed]",
      "text/plain": [
       "<matplotlib.figure.Figure at 0x1a19556c18>"
      ]
     },
     "metadata": {},
     "output_type": "display_data"
    }
   ],
   "source": [
    "politics_df = df[df['subreddit'] == 'politics']\n",
    "plt.hist(politics_df['compound'])\n",
    "plt.xlabel('Sentiment')\n",
    "plt.ylabel('Occurance')\n",
    "plt.title('Politics Compound Sentiment Score Histogram')\n",
    "plt.show()"
   ]
  },
  {
   "cell_type": "code",
   "execution_count": 63,
   "metadata": {},
   "outputs": [
    {
     "data": {
      "image/png": "[encoded data removed]",
      "text/plain": [
       "<matplotlib.figure.Figure at 0x1a19bdd4a8>"
      ]
     },
     "metadata": {},
     "output_type": "display_data"
    }
   ],
   "source": [
    "politics_df = df[df['subreddit'] == 'politics']\n",
    "plt.hist(politics_df['label'])\n",
    "plt.xlabel('Sentiment')\n",
    "plt.ylabel('Occurance')\n",
    "plt.title('Politics Label Sentiment Score Histogram')\n",
    "plt.show()"
   ]
  },
  {
   "cell_type": "markdown",
   "metadata": {},
   "source": [
    "# Aww Analysis Results\n",
    "The average label and compound scores show that the average comment sentiment tends to be positive"
   ]
  },
  {
   "cell_type": "code",
   "execution_count": 54,
   "metadata": {},
   "outputs": [
    {
     "data": {
      "text/plain": [
       "0.3431034482758621"
      ]
     },
     "execution_count": 54,
     "metadata": {},
     "output_type": "execute_result"
    }
   ],
   "source": [
    "df[df['subreddit'] == 'aww']['label'].mean()"
   ]
  },
  {
   "cell_type": "code",
   "execution_count": 55,
   "metadata": {},
   "outputs": [
    {
     "data": {
      "text/plain": [
       "0.22411637931034437"
      ]
     },
     "execution_count": 55,
     "metadata": {},
     "output_type": "execute_result"
    }
   ],
   "source": [
    "df[df['subreddit'] == 'aww']['compound'].mean()"
   ]
  },
  {
   "cell_type": "code",
   "execution_count": 66,
   "metadata": {},
   "outputs": [
    {
     "data": {
      "image/png": "[encoded data removed]",
      "text/plain": [
       "<matplotlib.figure.Figure at 0x1a1b6c4908>"
      ]
     },
     "metadata": {},
     "output_type": "display_data"
    }
   ],
   "source": [
    "aww_df = df[df['subreddit'] == 'aww']\n",
    "plt.hist(aww_df['compound'])\n",
    "plt.xlabel('Sentiment')\n",
    "plt.ylabel('Occurance')\n",
    "plt.title('Aww Compound Sentiment Score Histogram')\n",
    "plt.show()"
   ]
  },
  {
   "cell_type": "code",
   "execution_count": 65,
   "metadata": {},
   "outputs": [
    {
     "data": {
      "image/png": "[encoded data removed]",
      "text/plain": [
       "<matplotlib.figure.Figure at 0x1a1b848f60>"
      ]
     },
     "metadata": {},
     "output_type": "display_data"
    }
   ],
   "source": [
    "plt.hist(aww_df['label'])\n",
    "plt.xlabel('Sentiment')\n",
    "plt.ylabel('Occurance')\n",
    "plt.title('Aww Label Sentiment Score Histogram')\n",
    "plt.show()"
   ]
  },
  {
   "cell_type": "markdown",
   "metadata": {},
   "source": [
    "# How can this be used?\n",
    "### 1. Display sentiment score for each post as a browser addon  \n",
    "This allows users to see sentiment before they go into the comment section and gives them a better   idea of the mood and discourse  \n",
    "### 2. Display sentiment score for each subreddit at the top as a browser addon\n",
    "### 3. Perform large scale analysis on sentiment across subreddits \n",
    " \n",
    "Overall all the functions have been made modularly and can be applied to the ideas I have set forward, but can also be used in the creation of new analysis later"
   ]
  }
 ],
 "metadata": {
  "kernelspec": {
   "display_name": "Python 3",
   "language": "python",
   "name": "python3"
  },
  "language_info": {
   "codemirror_mode": {
    "name": "ipython",
    "version": 3
   },
   "file_extension": ".py",
   "mimetype": "text/x-python",
   "name": "python",
   "nbconvert_exporter": "python",
   "pygments_lexer": "ipython3",
   "version": "3.6.8"
  }
 },
 "nbformat": 4,
 "nbformat_minor": 2
}
